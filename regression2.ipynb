{
 "cells": [
  {
   "cell_type": "code",
   "execution_count": null,
   "metadata": {},
   "outputs": [],
   "source": []
  },
  {
   "cell_type": "code",
   "execution_count": null,
   "metadata": {},
   "outputs": [],
   "source": []
  },
  {
   "cell_type": "code",
   "execution_count": 14,
   "metadata": {
    "scrolled": false
   },
   "outputs": [
    {
     "name": "stdout",
     "output_type": "stream",
     "text": [
      "12.4466777015843\n",
      "7.5039016315913925\n",
      "7.550274679645938\n",
      "-74.65333355403168\n"
     ]
    },
    {
     "data": {
      "text/plain": [
       "array([356229.0060701 , 784835.94165188, 435182.91525622, ...,\n",
       "       663585.29540177, 604369.86351218, 240617.92476186])"
      ]
     },
     "execution_count": 14,
     "metadata": {},
     "output_type": "execute_result"
    }
   ],
   "source": [
    "import pandas as pd\n",
    "import numpy as np\n",
    "from sklearn import linear_model\n",
    "import math\n",
    "\n",
    "dtype_dict = {'bathrooms':float, 'waterfront':int, 'sqft_above':int, 'sqft_living15':float, 'grade':int, 'yr_renovated':int, 'price':float, 'bedrooms':float, 'zipcode':str, 'long':float, 'sqft_lot15':float, 'sqft_living':float, 'floors':str, 'condition':int, 'lat':float, 'date':str, 'sqft_basement':int, 'yr_built':int, 'id':str, 'sqft_lot':int, 'view':int}\n",
    "house_test = pd.read_csv(\"_46994807796a1213d2699c6d9a09667c_kc_house_test_data.csv (1).zip\")\n",
    "house_train = pd.read_csv(\"kc_house_train_data.csv\")\n",
    "\n",
    "house_train['bedroom_squared'] = house_train['bedrooms'].apply(lambda x:x**2)\n",
    "house_train['bed_bath_rooms'] = house_train['bedrooms']*house_train['bathrooms']\n",
    "house_train['lsl'] = house_train['sqft_living'].apply(lambda x:math.log(x))\n",
    "house_train['lat_lp'] = house_train['lat'] +house_train['long']\n",
    "\n",
    "house_test['bedroom_squared'] = house_test['bedrooms'].apply(lambda x:x**2)\n",
    "house_test['bed_bath_rooms'] = house_test['bedrooms']*house_test['bathrooms']\n",
    "house_test['lsl'] = house_test['sqft_living'].apply(lambda x:math.log(x))\n",
    "house_test['lat_lp'] = house_test['lat'] + house_test['long']\n",
    "\n",
    "beds = np.asanyarray(house_test['bedroom_squared'])\n",
    "print(np.mean(beds))\n",
    "bed_bath = np.asanyarray(house_test['bed_bath_rooms'])\n",
    "print(np.mean(bed_bath))\n",
    "lsql = np.asanyarray(house_test['lsl'])\n",
    "print(np.mean(lsql))\n",
    "llp = np.asanyarray(house_test['lat_lp'])\n",
    "print(np.mean(llp))\n",
    "\n",
    "price = house_train['price']\n",
    "x = house_train[['sqft_living','bedrooms', 'bathrooms', 'lat', 'long']]\n",
    "\n",
    "mult = linear_model.LinearRegression()\n",
    "mult.fit(x,price)\n",
    "regr = mult.predict(x)\n",
    "error = regr - price\n",
    "RS = (price - regr)**2\n",
    "RSS = sum(RS)\n",
    "\n",
    "\n",
    "#17384 with 0th row having names of attributes\n",
    "def get_numpy_data(data_sframe, features, output):\n",
    "    data_sframe['constant'] = 1 # add a constant column to an SFrame\n",
    "    # prepend variable 'constant' to the features list\n",
    "    features = ['constant'] + features\n",
    "    \n",
    "    features_matrix = data_sframe[features].to_numpy()\n",
    "    # this will convert the SArray into a numpy array:\n",
    "    output_array = data_sframe[output].to_numpy()\n",
    "    return(features_matrix, output_array)\n",
    "def predict_outcome(feature_matrix, weights):\n",
    "    predictions = np.dot(feature_matrix, weights)\n",
    "    return(predictions)\n",
    "\n",
    "def feature_derivative(errors, feature):\n",
    "    derivative = 2*np.dot(errors, feature)\n",
    "    return(derivative)\n",
    "\n",
    "def regression_gradient_descent(feature_matrix, output, initial_weights, step_size, tolerance):\n",
    "    converged = False\n",
    "    weights = np.array(initial_weights)\n",
    "    while not converged:\n",
    "        predicts = predict_outcome(feature_matrix, weights)\n",
    "        \n",
    "        error = predicts - output\n",
    "        gradient_sum_squares = 0 # initialize the gradient\n",
    "        # while not converged, update each weight individually:\n",
    "        for i in range(len(weights)):\n",
    "            deriv = feature_derivative(error,feature_matrix[:,i])\n",
    "\n",
    "            gradient_sum_squares += deriv**2\n",
    "            # add the squared derivative to the gradient magnitude\n",
    "            weights[i] = weights[i] - deriv*step_size\n",
    "            # update the weight based on step size and derivative:\n",
    "            \n",
    "        gradient_magnitude = math.sqrt(gradient_sum_squares)\n",
    "        if gradient_magnitude < tolerance:\n",
    "            converged = True\n",
    "    return(weights)\n",
    "\n",
    "simple_features = ['sqft_living']\n",
    "my_output= 'price'\n",
    "(simple_feature_matrix, output) = get_numpy_data(house_train, ['sqft_living'], 'price')\n",
    "initial_weights = np.array([-47000., 1.])\n",
    "(simple_feature_matri, outputi) = get_numpy_data(house_test, ['sqft_living'], 'price')\n",
    "step_size = 7e-12\n",
    "tolerance = 2.5e7\n",
    "weight = regression_gradient_descent(simple_feature_matrix,output,initial_weights,step_size, tolerance )\n",
    "predict_outcome(simple_feature_matri, weight)\n"
   ]
  },
  {
   "cell_type": "code",
   "execution_count": 2,
   "metadata": {},
   "outputs": [
    {
     "ename": "NameError",
     "evalue": "name 'get_numpy_data' is not defined",
     "output_type": "error",
     "traceback": [
      "\u001b[1;31m---------------------------------------------------------------------------\u001b[0m",
      "\u001b[1;31mNameError\u001b[0m                                 Traceback (most recent call last)",
      "\u001b[1;32m<ipython-input-2-ed9992771ad6>\u001b[0m in \u001b[0;36m<module>\u001b[1;34m\u001b[0m\n\u001b[0;32m      1\u001b[0m \u001b[0mmodel_features\u001b[0m \u001b[1;33m=\u001b[0m \u001b[1;33m[\u001b[0m\u001b[1;34m'sqft_living'\u001b[0m\u001b[1;33m,\u001b[0m \u001b[1;34m'sqft_living15'\u001b[0m\u001b[1;33m]\u001b[0m\u001b[1;33m\u001b[0m\u001b[1;33m\u001b[0m\u001b[0m\n\u001b[0;32m      2\u001b[0m \u001b[0mmy_output\u001b[0m \u001b[1;33m=\u001b[0m \u001b[1;34m'price'\u001b[0m\u001b[1;33m\u001b[0m\u001b[1;33m\u001b[0m\u001b[0m\n\u001b[1;32m----> 3\u001b[1;33m \u001b[1;33m(\u001b[0m\u001b[0mfeature_matr\u001b[0m\u001b[1;33m,\u001b[0m \u001b[0moutput\u001b[0m\u001b[1;33m)\u001b[0m \u001b[1;33m=\u001b[0m \u001b[0mget_numpy_data\u001b[0m\u001b[1;33m(\u001b[0m\u001b[0mhouse_test\u001b[0m\u001b[1;33m,\u001b[0m \u001b[0mmodel_features\u001b[0m\u001b[1;33m,\u001b[0m\u001b[0mmy_output\u001b[0m\u001b[1;33m)\u001b[0m\u001b[1;33m\u001b[0m\u001b[1;33m\u001b[0m\u001b[0m\n\u001b[0m\u001b[0;32m      4\u001b[0m \u001b[0minitial_weights\u001b[0m \u001b[1;33m=\u001b[0m \u001b[0mnp\u001b[0m\u001b[1;33m.\u001b[0m\u001b[0marray\u001b[0m\u001b[1;33m(\u001b[0m\u001b[1;33m[\u001b[0m\u001b[1;33m-\u001b[0m\u001b[1;36m100000.\u001b[0m\u001b[1;33m,\u001b[0m \u001b[1;36m1.\u001b[0m\u001b[1;33m,\u001b[0m \u001b[1;36m1.\u001b[0m\u001b[1;33m]\u001b[0m\u001b[1;33m)\u001b[0m\u001b[1;33m\u001b[0m\u001b[1;33m\u001b[0m\u001b[0m\n\u001b[0;32m      5\u001b[0m \u001b[0mstep_size\u001b[0m \u001b[1;33m=\u001b[0m \u001b[1;36m4e-12\u001b[0m\u001b[1;33m\u001b[0m\u001b[1;33m\u001b[0m\u001b[0m\n",
      "\u001b[1;31mNameError\u001b[0m: name 'get_numpy_data' is not defined"
     ]
    }
   ],
   "source": []
  }
 ],
 "metadata": {
  "kernelspec": {
   "display_name": "Python 3",
   "language": "python",
   "name": "python3"
  },
  "language_info": {
   "codemirror_mode": {
    "name": "ipython",
    "version": 3
   },
   "file_extension": ".py",
   "mimetype": "text/x-python",
   "name": "python",
   "nbconvert_exporter": "python",
   "pygments_lexer": "ipython3",
   "version": "3.7.3"
  }
 },
 "nbformat": 4,
 "nbformat_minor": 2
}
