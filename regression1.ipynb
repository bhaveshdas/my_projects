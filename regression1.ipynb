{
 "cells": [
  {
   "cell_type": "code",
   "execution_count": 9,
   "metadata": {},
   "outputs": [
    {
     "name": "stdout",
     "output_type": "stream",
     "text": [
      "[[282.13759252]] [-47396.33146392]\n"
     ]
    },
    {
     "data": {
      "text/plain": [
       "'\\ndef reverse_sir(input_feature,intercept, slope):\\n    output = (input_feature - intercept)/slope\\n    return(output)\\nreverse_sir(800000,tuplev[1], tuplev[0])\\n\\ndef get_residual_sum_of_squares(inputt,output,intercept,slope):\\n   \\n    i = 0\\n    RSS = 0\\n    while( i < np.size(output)):\\n        RSS += pow(output[i] - (inputt*slope +intercept),2)\\n        i+=1\\n    return(RSS)\\nget_residual_sum_of_squares( input_, outputt,tuplev[1], tuplev[0])\\n'"
      ]
     },
     "execution_count": 9,
     "metadata": {},
     "output_type": "execute_result"
    }
   ],
   "source": [
    "import pandas as pd\n",
    "import numpy as np\n",
    "from sklearn import linear_model\n",
    "read_file = pd.read_csv(\"house_data.csv\")\n",
    "read_train_file = pd.read_csv(\"kc_house_train_data.csv\")\n",
    "read_test_file = pd.read_csv(\"kc_house_test_data.csv\")\n",
    "\n",
    "regr = linear_model.LinearRegression()\n",
    "\n",
    "input_= np.asanyarray(read_train_file[['sqft_living']])\n",
    "outputt = np.asanyarray(read_train_file[['price']])\n",
    "def simple_linear_regression(  input_feature,output):\n",
    "   \n",
    "    regr.fit(input_feature , output)\n",
    "    return(regr.coef_, regr.intercept_)\n",
    "\n",
    "\n",
    "\n",
    "def get_regression_predictions(input_feature, intercept, slope):\n",
    "    \n",
    "    predicted_output = intercept + slope*input_feature\n",
    "    return(predicted_output)\n",
    "t1 = simple_linear_regression(input_,outputt)\n",
    "print(t1[0], t1[1])\n",
    "'''\n",
    "def reverse_sir(input_feature,intercept, slope):\n",
    "    output = (input_feature - intercept)/slope\n",
    "    return(output)\n",
    "reverse_sir(800000,tuplev[1], tuplev[0])\n",
    "\n",
    "def get_residual_sum_of_squares(inputt,output,intercept,slope):\n",
    "   \n",
    "    i = 0\n",
    "    RSS = 0\n",
    "    while( i < np.size(output)):\n",
    "        RSS += pow(output[i] - (inputt*slope +intercept),2)\n",
    "        i+=1\n",
    "    return(RSS)\n",
    "get_residual_sum_of_squares( input_, outputt,tuplev[1], tuplev[0])\n",
    "'''"
   ]
  },
  {
   "cell_type": "code",
   "execution_count": null,
   "metadata": {},
   "outputs": [],
   "source": []
  },
  {
   "cell_type": "code",
   "execution_count": null,
   "metadata": {},
   "outputs": [],
   "source": []
  }
 ],
 "metadata": {
  "kernelspec": {
   "display_name": "Python 3",
   "language": "python",
   "name": "python3"
  },
  "language_info": {
   "codemirror_mode": {
    "name": "ipython",
    "version": 3
   },
   "file_extension": ".py",
   "mimetype": "text/x-python",
   "name": "python",
   "nbconvert_exporter": "python",
   "pygments_lexer": "ipython3",
   "version": "3.7.3"
  }
 },
 "nbformat": 4,
 "nbformat_minor": 2
}
